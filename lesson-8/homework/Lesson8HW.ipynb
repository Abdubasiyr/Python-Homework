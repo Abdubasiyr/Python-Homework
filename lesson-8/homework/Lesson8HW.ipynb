{
 "cells": [
  {
   "cell_type": "code",
   "execution_count": 2,
   "metadata": {},
   "outputs": [
    {
     "name": "stdout",
     "output_type": "stream",
     "text": [
      "Error: Cannot divide by zero.\n"
     ]
    }
   ],
   "source": [
    "try:\n",
    "    a = int(input(\"Enter numerator: \"))\n",
    "    b = int(input(\"Enter denominator: \"))\n",
    "    result = a / b\n",
    "    print(\"Result:\", result)\n",
    "except ZeroDivisionError:\n",
    "    print(\"Error: Cannot divide by zero.\")\n"
   ]
  },
  {
   "cell_type": "code",
   "execution_count": null,
   "metadata": {},
   "outputs": [],
   "source": [
    "try:\n",
    "    n = int(input(\"Enter an integer: \"))\n",
    "except ValueError:\n",
    "    print(\"Error: Not a valid integer.\")\n"
   ]
  },
  {
   "cell_type": "code",
   "execution_count": null,
   "metadata": {},
   "outputs": [],
   "source": [
    "try:\n",
    "    with open(\"myfile.txt\", \"r\") as file:\n",
    "        content = file.read()\n",
    "except FileNotFoundError:\n",
    "    print(\"Error: File not found.\")\n"
   ]
  },
  {
   "cell_type": "code",
   "execution_count": null,
   "metadata": {},
   "outputs": [],
   "source": [
    "try:\n",
    "    x = float(input(\"Enter first number: \"))\n",
    "    y = float(input(\"Enter second number: \"))\n",
    "    print(\"Sum:\", x + y)\n",
    "except ValueError:\n",
    "    raise TypeError(\"Error: Inputs must be numerical.\")\n"
   ]
  },
  {
   "cell_type": "code",
   "execution_count": null,
   "metadata": {},
   "outputs": [],
   "source": [
    "try:\n",
    "    with open(\"/root/secret.txt\", \"r\") as file:\n",
    "        content = file.read()\n",
    "except PermissionError:\n",
    "    print(\"Error: Permission denied to access the file.\")\n"
   ]
  },
  {
   "cell_type": "code",
   "execution_count": null,
   "metadata": {},
   "outputs": [],
   "source": [
    "my_list = [1, 2, 3]\n",
    "try:\n",
    "    index = int(input(\"Enter index: \"))\n",
    "    print(my_list[index])\n",
    "except IndexError:\n",
    "    print(\"Error: Index out of range.\")\n"
   ]
  },
  {
   "cell_type": "code",
   "execution_count": null,
   "metadata": {},
   "outputs": [],
   "source": [
    "try:\n",
    "    number = input(\"Enter a number (press Ctrl+C to cancel): \")\n",
    "    print(\"You entered:\", number)\n",
    "except KeyboardInterrupt:\n",
    "    print(\"\\nInput cancelled by user.\")\n"
   ]
  },
  {
   "cell_type": "code",
   "execution_count": null,
   "metadata": {},
   "outputs": [],
   "source": [
    "try:\n",
    "    a = int(input(\"Enter a number: \"))\n",
    "    b = int(input(\"Enter another number: \"))\n",
    "    result = a / b\n",
    "    print(\"Result:\", result)\n",
    "except ArithmeticError:\n",
    "    print(\"Arithmetic error occurred.\")\n"
   ]
  },
  {
   "cell_type": "code",
   "execution_count": null,
   "metadata": {},
   "outputs": [],
   "source": [
    "try:\n",
    "    with open(\"utf8file.txt\", \"r\", encoding=\"ascii\") as f:\n",
    "        data = f.read()\n",
    "except UnicodeDecodeError:\n",
    "    print(\"Error: Cannot decode file with ASCII encoding.\")\n"
   ]
  },
  {
   "cell_type": "code",
   "execution_count": null,
   "metadata": {},
   "outputs": [],
   "source": [
    "my_list = [1, 2, 3]\n",
    "try:\n",
    "    my_list.upper()  # список не имеет метода upper\n",
    "except AttributeError:\n",
    "    print(\"Error: List object has no attribute 'upper'.\")\n"
   ]
  },
  {
   "cell_type": "code",
   "execution_count": null,
   "metadata": {},
   "outputs": [],
   "source": [
    "# 1. Read entire text file\n",
    "with open(\"file.txt\", \"r\") as file:\n",
    "    print(\"1:\", file.read())\n",
    "\n",
    "# 2. Read first n lines\n",
    "n = 3\n",
    "with open(\"file.txt\", \"r\") as file:\n",
    "    print(\"2:\")\n",
    "    for i in range(n):\n",
    "        print(file.readline().strip())\n",
    "\n",
    "# 3. Append text and display\n",
    "with open(\"file.txt\", \"a\") as file:\n",
    "    file.write(\"New line added.\\n\")\n",
    "with open(\"file.txt\", \"r\") as file:\n",
    "    print(\"3:\", file.read())\n",
    "\n",
    "# 4. Read last n lines\n",
    "n = 3\n",
    "with open(\"file.txt\", \"r\") as file:\n",
    "    lines = file.readlines()\n",
    "    print(\"4:\", \"\".join(lines[-n:]))\n",
    "\n",
    "# 5. Read lines into a list\n",
    "with open(\"file.txt\", \"r\") as file:\n",
    "    lines_list = [line.strip() for line in file]\n",
    "    print(\"5:\", lines_list)\n",
    "\n",
    "# 6. Read lines into a variable\n",
    "with open(\"file.txt\", \"r\") as file:\n",
    "    text = \"\".join(file.readlines())\n",
    "    print(\"6:\", text)\n",
    "\n",
    "# 7. Read lines into an array\n",
    "with open(\"file.txt\", \"r\") as file:\n",
    "    array = list(file)\n",
    "    print(\"7:\", array)\n",
    "\n",
    "# 8. Find the longest words\n",
    "with open(\"file.txt\", \"r\") as file:\n",
    "    words = file.read().split()\n",
    "    max_len = max(len(word) for word in words)\n",
    "    longest = [word for word in words if len(word) == max_len]\n",
    "    print(\"8:\", longest)\n",
    "\n",
    "# 9. Count number of lines\n",
    "with open(\"file.txt\", \"r\") as file:\n",
    "    print(\"9:\", len(file.readlines()))\n",
    "\n",
    "# 10. Count word frequency\n",
    "from collections import Counter\n",
    "with open(\"file.txt\", \"r\") as file:\n",
    "    words = file.read().replace(\",\", \" \").split()\n",
    "    freq = Counter(words)\n",
    "    print(\"10:\", freq)\n",
    "\n",
    "# 11. Get file size\n",
    "import os\n",
    "print(\"11:\", os.path.getsize(\"file.txt\"), \"bytes\")\n",
    "\n",
    "# 12. Write list to file\n",
    "lines = [\"Line 1\\n\", \"Line 2\\n\", \"Line 3\\n\"]\n",
    "with open(\"file.txt\", \"w\") as file:\n",
    "    file.writelines(lines)\n",
    "\n",
    "# 13. Copy content to another file\n",
    "with open(\"file.txt\", \"r\") as src, open(\"copy.txt\", \"w\") as dest:\n",
    "    dest.write(src.read())\n",
    "\n",
    "# 14. Combine lines from two files\n",
    "with open(\"file.txt\") as f1, open(\"copy.txt\") as f2:\n",
    "    print(\"14:\")\n",
    "    for l1, l2 in zip(f1, f2):\n",
    "        print(l1.strip() + \" \" + l2.strip())\n",
    "\n",
    "# 15. Read random line\n",
    "import random\n",
    "with open(\"file.txt\", \"r\") as file:\n",
    "    lines = file.readlines()\n",
    "    print(\"15:\", random.choice(lines).strip())\n",
    "\n",
    "# 16. Check if file is closed\n",
    "f = open(\"file.txt\", \"r\")\n",
    "print(\"16:\", f.closed)  # False\n",
    "f.close()\n",
    "print(\"16:\", f.closed)  # True\n",
    "\n",
    "# 17. Remove newline characters\n",
    "with open(\"file.txt\", \"r\") as file:\n",
    "    cleaned = [line.strip() for line in file]\n",
    "    print(\"17:\", cleaned)\n",
    "\n",
    "# 18. Count words\n",
    "with open(\"file.txt\", \"r\") as file:\n",
    "    words = file.read().replace(\",\", \" \").split()\n",
    "    print(\"18: Number of words:\", len(words))\n",
    "\n",
    "# 19. Extract characters from files\n",
    "import glob\n",
    "chars = []\n",
    "for filename in glob.glob(\"*.txt\"):\n",
    "    with open(filename, \"r\") as f:\n",
    "        chars.extend(list(f.read()))\n",
    "print(\"19:\", chars)\n",
    "\n",
    "# 20. Create A.txt to Z.txt\n",
    "import string\n",
    "for letter in string.ascii_uppercase:\n",
    "    with open(f\"{letter}.txt\", \"w\") as file:\n",
    "        file.write(f\"This is {letter}.txt\\n\")\n",
    "print(\"20: Created A-Z files\")\n",
    "\n",
    "# 21. Alphabet with N letters per line\n",
    "n = 5\n",
    "alphabet = string.ascii_lowercase\n",
    "with open(\"alphabet.txt\", \"w\") as file:\n",
    "    for i in range(0, len(alphabet), n):\n",
    "        file.write(\" \".join(alphabet[i:i+n]) + \"\\n\")\n",
    "print(\"21: Created alphabet.txt with\", n, \"letters per line\")\n"
   ]
  }
 ],
 "metadata": {
  "kernelspec": {
   "display_name": "base",
   "language": "python",
   "name": "python3"
  },
  "language_info": {
   "codemirror_mode": {
    "name": "ipython",
    "version": 3
   },
   "file_extension": ".py",
   "mimetype": "text/x-python",
   "name": "python",
   "nbconvert_exporter": "python",
   "pygments_lexer": "ipython3",
   "version": "3.12.7"
  }
 },
 "nbformat": 4,
 "nbformat_minor": 2
}
