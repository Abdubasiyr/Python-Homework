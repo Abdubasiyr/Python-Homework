{
 "cells": [
  {
   "cell_type": "code",
   "execution_count": 2,
   "metadata": {},
   "outputs": [
    {
     "name": "stdout",
     "output_type": "stream",
     "text": [
      "Watermelon\n"
     ]
    }
   ],
   "source": [
    "# 1. Create and Access List Elements\n",
    "# Create a list containing five different fruits and print the third fruit.\n",
    "\n",
    "fruit_list = ['Apple', 'Peach', 'Apricot', 'Watermelon', 'Banana']\n",
    "\n",
    "print(fruit_list[3])"
   ]
  },
  {
   "cell_type": "code",
   "execution_count": 3,
   "metadata": {},
   "outputs": [
    {
     "name": "stdout",
     "output_type": "stream",
     "text": [
      "[1, 2, 7, 9, 10, 17]\n"
     ]
    }
   ],
   "source": [
    "# 2. Concatenate Two Lists\n",
    "# Create two lists of numbers and concatenate them into a single list.\n",
    "\n",
    "list1 = [1, 2, 7]\n",
    "list2 = [9, 10, 17]\n",
    "\n",
    "combined_list = list1 + list2\n",
    "\n",
    "print(combined_list)"
   ]
  },
  {
   "cell_type": "code",
   "execution_count": 5,
   "metadata": {},
   "outputs": [
    {
     "name": "stdout",
     "output_type": "stream",
     "text": [
      "Извлечённые элементы: [5, 20, 35]\n"
     ]
    }
   ],
   "source": [
    "numbers = [5, 10, 15, 20, 25, 30, 35]\n",
    "\n",
    "first = numbers[0]\n",
    "\n",
    "middle = numbers[len(numbers) // 2]\n",
    "\n",
    "last = numbers[-1]\n",
    "\n",
    "extracted = [first, middle, last]\n",
    "\n",
    "print(\"Извлечённые элементы:\", extracted)\n"
   ]
  },
  {
   "cell_type": "code",
   "execution_count": 12,
   "metadata": {},
   "outputs": [
    {
     "name": "stdout",
     "output_type": "stream",
     "text": [
      "('Breaking bad', 'Suits', 'Cars', 'Anora', 'Major')\n"
     ]
    }
   ],
   "source": [
    "# 4. Convert List to Tuple\n",
    "# Create a list of your five favorite movies and convert it into a tuple.\n",
    "\n",
    "favorite_movies = ['Breaking bad', 'Suits', 'Cars', 'Anora', 'Major']\n",
    "\n",
    "favorite_movies = tuple(favorite_movies)\n",
    "\n",
    "print(favorite_movies)"
   ]
  },
  {
   "cell_type": "code",
   "execution_count": 13,
   "metadata": {},
   "outputs": [
    {
     "name": "stdout",
     "output_type": "stream",
     "text": [
      "Paris is in the list.\n"
     ]
    }
   ],
   "source": [
    "# 5. Check Element in a List\n",
    "# Given a list of cities, check if \"Paris\" is in the list and print the result.\n",
    "\n",
    "cities = [\"London\", \"New York\", \"Paris\", \"Tokyo\"]\n",
    "\n",
    "if \"Paris\" in cities:\n",
    "    print(\"Paris is in the list.\")\n",
    "else:\n",
    "    print(\"Paris is not in the list.\")\n"
   ]
  },
  {
   "cell_type": "code",
   "execution_count": 14,
   "metadata": {},
   "outputs": [
    {
     "name": "stdout",
     "output_type": "stream",
     "text": [
      "[7, 9, 10, 7, 9, 10]\n"
     ]
    }
   ],
   "source": [
    "# 6. Duplicate a List Without Using Loops\n",
    "# Create a list of numbers and duplicate it without using loops.\n",
    "\n",
    "numbers = [7, 9, 10]\n",
    "\n",
    "duplicated_numbers = numbers * 2\n",
    "\n",
    "print(duplicated_numbers)"
   ]
  },
  {
   "cell_type": "code",
   "execution_count": 21,
   "metadata": {},
   "outputs": [
    {
     "name": "stdout",
     "output_type": "stream",
     "text": [
      "После обмена: [50, 20, 30, 40, 10]\n"
     ]
    }
   ],
   "source": [
    "# 7. Swap First and Last Elements of a List\n",
    "# Given a list of numbers, swap the first and last elements.\n",
    "\n",
    "numbers = [10, 20, 30, 40, 50]\n",
    "\n",
    "numbers[0], numbers[-1] = numbers[-1], numbers[0]\n",
    "\n",
    "print(\"После обмена:\", numbers)\n"
   ]
  },
  {
   "cell_type": "code",
   "execution_count": 24,
   "metadata": {},
   "outputs": [
    {
     "name": "stdout",
     "output_type": "stream",
     "text": [
      "(4, 5, 6, 7)\n"
     ]
    }
   ],
   "source": [
    "# 8. Slice a Tuple\n",
    "# Create a tuple of numbers from 1 to 10 and print a slice from index 3 to 7.\n",
    "\n",
    "tuple_list = (1, 2, 3, 4, 5, 6, 7, 8, 9, 10)\n",
    "\n",
    "slice_numbers = tuple_list[3:7]\n",
    "\n",
    "print(slice_numbers)"
   ]
  },
  {
   "cell_type": "code",
   "execution_count": 25,
   "metadata": {},
   "outputs": [
    {
     "name": "stdout",
     "output_type": "stream",
     "text": [
      "2\n"
     ]
    }
   ],
   "source": [
    "# 9. Count Occurrences in a List\n",
    "# Create a list of colors and count how many times \"blue\" appears in the list.\n",
    "\n",
    "list_of_colors = ['Blue', 'Red', 'Green', 'Purple', 'Pink', 'Blue']\n",
    "\n",
    "print(list_of_colors.count('Blue'))"
   ]
  },
  {
   "cell_type": "code",
   "execution_count": 26,
   "metadata": {},
   "outputs": [
    {
     "name": "stdout",
     "output_type": "stream",
     "text": [
      "0\n"
     ]
    }
   ],
   "source": [
    "# 10. Find the Index of an Element in a Tuple\n",
    "# Given a tuple of animals, find the index of \"lion\".\n",
    "\n",
    "tuple_of_animals = ('lion', 'tiger', 'hippo', 'panthera', 'cheetah')\n",
    "\n",
    "print(tuple_of_animals.index('lion'))"
   ]
  },
  {
   "cell_type": "code",
   "execution_count": 28,
   "metadata": {},
   "outputs": [
    {
     "name": "stdout",
     "output_type": "stream",
     "text": [
      "(2, 3, 4, 7, 9, 10)\n"
     ]
    }
   ],
   "source": [
    "# 11. Merge Two Tuples\n",
    "# Create two tuples of numbers and merge them into a single tuple.\n",
    "\n",
    "first_tuple = (2, 3, 4)\n",
    "second_tuple = (7, 9, 10)\n",
    "\n",
    "single_tuple = first_tuple + second_tuple\n",
    "\n",
    "print(single_tuple)"
   ]
  },
  {
   "cell_type": "code",
   "execution_count": 30,
   "metadata": {},
   "outputs": [
    {
     "name": "stdout",
     "output_type": "stream",
     "text": [
      "3\n",
      "3\n"
     ]
    }
   ],
   "source": [
    "# 12. Find the Length of a List and Tuple\n",
    "# Given a list and a tuple, find and print their lengths.\n",
    "\n",
    "list6 = [1, 7, 9]\n",
    "\n",
    "tuple8 = (10, 17, 45)\n",
    "\n",
    "print(len(list6))\n",
    "print(len(tuple8))"
   ]
  },
  {
   "cell_type": "code",
   "execution_count": 31,
   "metadata": {},
   "outputs": [
    {
     "name": "stdout",
     "output_type": "stream",
     "text": [
      "[4, 8, 7, 9, 10]\n"
     ]
    }
   ],
   "source": [
    "# 13. Convert Tuple to List\n",
    "# Create a tuple of five numbers and convert it into a list.\n",
    "\n",
    "some_tuple = (4, 8, 7, 9, 10)\n",
    "\n",
    "some_tuple = list(some_tuple)\n",
    "\n",
    "print(some_tuple)"
   ]
  },
  {
   "cell_type": "code",
   "execution_count": 33,
   "metadata": {},
   "outputs": [
    {
     "name": "stdout",
     "output_type": "stream",
     "text": [
      "45\n",
      "1\n"
     ]
    }
   ],
   "source": [
    "# 14. Find Maximum and Minimum in a Tuple\n",
    "# Given a tuple of numbers, find and print the maximum and minimum values.\n",
    "\n",
    "tuple2 = (1, 3, 4, 8, 7, 9, 10, 45)\n",
    "\n",
    "print(max(tuple2))\n",
    "print(min(tuple2))"
   ]
  },
  {
   "cell_type": "code",
   "execution_count": 37,
   "metadata": {},
   "outputs": [
    {
     "name": "stdout",
     "output_type": "stream",
     "text": [
      "('tuples', 'and', 'lists', 'about', 'lesson', 'the', 'is', 'This')\n"
     ]
    }
   ],
   "source": [
    "# 15. Reverse a Tuple\n",
    "# Create a tuple of words and print it in reverse order.\n",
    "\n",
    "tuple3 = ('This', 'is', 'the', 'lesson', 'about', 'lists', 'and', 'tuples')\n",
    "\n",
    "\n",
    "\n",
    "print(tuple3[::-1])"
   ]
  }
 ],
 "metadata": {
  "kernelspec": {
   "display_name": "base",
   "language": "python",
   "name": "python3"
  },
  "language_info": {
   "codemirror_mode": {
    "name": "ipython",
    "version": 3
   },
   "file_extension": ".py",
   "mimetype": "text/x-python",
   "name": "python",
   "nbconvert_exporter": "python",
   "pygments_lexer": "ipython3",
   "version": "3.12.7"
  }
 },
 "nbformat": 4,
 "nbformat_minor": 2
}
