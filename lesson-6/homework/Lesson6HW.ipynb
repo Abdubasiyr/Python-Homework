{
 "cells": [
  {
   "cell_type": "code",
   "execution_count": 2,
   "metadata": {},
   "outputs": [
    {
     "name": "stdout",
     "output_type": "stream",
     "text": [
      "abcabcabcdeabcdefabcdefg\n"
     ]
    }
   ],
   "source": [
    "# 1. Modify String with Underscores\n",
    "# Given a string txt, insert an underscore (_) after every third character. If a character is a vowel or already has an underscore after it, shift the underscore placement to the next character. No underscore should be added at the end.\n",
    "\n",
    "string_txt = input('Введите текст: ')\n",
    "print(string_txt)"
   ]
  },
  {
   "cell_type": "code",
   "execution_count": 8,
   "metadata": {},
   "outputs": [
    {
     "name": "stdout",
     "output_type": "stream",
     "text": [
      "0\n",
      "1\n",
      "4\n",
      "9\n",
      "16\n"
     ]
    }
   ],
   "source": [
    "# 2. Integer Squares Exercise\n",
    "# Task\n",
    "# The provided code stub reads an integer, n, from STDIN. For all non-negative integers i where 0 <= i < n, print i^2.\n",
    "\n",
    "n = int(input('Введите любое число: '))\n",
    "\n",
    "for i in range(n):\n",
    "    print(i**2)"
   ]
  },
  {
   "cell_type": "code",
   "execution_count": 15,
   "metadata": {},
   "outputs": [
    {
     "name": "stdout",
     "output_type": "stream",
     "text": [
      "1\n",
      "2\n",
      "3\n",
      "4\n",
      "5\n",
      "6\n",
      "7\n",
      "8\n",
      "9\n",
      "10\n"
     ]
    }
   ],
   "source": [
    "# Exercise 1: Print first 10 natural numbers using a while loop\n",
    "\n",
    "i = 1\n",
    "\n",
    "while i <= 10:\n",
    "    print(i)\n",
    "    i += 1"
   ]
  },
  {
   "cell_type": "code",
   "execution_count": 16,
   "metadata": {},
   "outputs": [
    {
     "name": "stdout",
     "output_type": "stream",
     "text": [
      "1 \n",
      "1 2 \n",
      "1 2 3 \n",
      "1 2 3 4 \n",
      "1 2 3 4 5 \n"
     ]
    }
   ],
   "source": [
    "# Exercise 2: Print the following pattern\n",
    "\n",
    "for i in range(1, 6):  # внешний цикл от 1 до 5 включительно\n",
    "    for j in range(1, i + 1):  # внутренний цикл печатает от 1 до i\n",
    "        print(j, end=' ')\n",
    "    print()  # переход на новую строку после каждой строки\n"
   ]
  },
  {
   "cell_type": "code",
   "execution_count": 17,
   "metadata": {},
   "outputs": [
    {
     "name": "stdout",
     "output_type": "stream",
     "text": [
      "1 \n",
      "1 2 \n",
      "1 2 3 \n",
      "1 2 3 4 \n",
      "1 2 3 4 5 \n"
     ]
    }
   ],
   "source": [
    "i = 1\n",
    "while i <= 5:\n",
    "    j = 1\n",
    "    while j <= i:\n",
    "        print(j, end=' ')\n",
    "        j += 1\n",
    "    print()  # переход на новую строку\n",
    "    i += 1\n"
   ]
  },
  {
   "cell_type": "code",
   "execution_count": 18,
   "metadata": {},
   "outputs": [
    {
     "name": "stdout",
     "output_type": "stream",
     "text": [
      "Sum is: 55\n"
     ]
    }
   ],
   "source": [
    "# Exercise 3: Calculate sum of all numbers from 1 to a given number\n",
    "\n",
    "n = int(input(\"Enter number: \"))\n",
    "total = 0\n",
    "\n",
    "for i in range(1, n + 1):\n",
    "    total += i\n",
    "\n",
    "print(\"Sum is:\", total)\n"
   ]
  },
  {
   "cell_type": "code",
   "execution_count": 2,
   "metadata": {},
   "outputs": [
    {
     "name": "stdout",
     "output_type": "stream",
     "text": [
      "Sum is: 55\n"
     ]
    }
   ],
   "source": [
    "n = int(input(\"Enter number: \"))\n",
    "total = 0\n",
    "i = 1\n",
    "\n",
    "while i <= n:\n",
    "    total += i\n",
    "    i += 1\n",
    "\n",
    "print(\"Sum is:\", total)\n"
   ]
  },
  {
   "cell_type": "code",
   "execution_count": 3,
   "metadata": {},
   "outputs": [
    {
     "name": "stdout",
     "output_type": "stream",
     "text": [
      "2\n",
      "4\n",
      "6\n",
      "8\n",
      "10\n",
      "12\n",
      "14\n",
      "16\n",
      "18\n",
      "20\n"
     ]
    }
   ],
   "source": [
    "# Exercise 4: Print multiplication table of a given number\n",
    "\n",
    "n = int(input(\"Enter number: \"))\n",
    "\n",
    "for i in range(1, 11):\n",
    "    print(n * i)\n"
   ]
  },
  {
   "cell_type": "code",
   "execution_count": 4,
   "metadata": {},
   "outputs": [
    {
     "name": "stdout",
     "output_type": "stream",
     "text": [
      "75\n",
      "150\n",
      "145\n"
     ]
    }
   ],
   "source": [
    "# Exercise 5: Display numbers from a list using a loop\n",
    "# Given:\n",
    "\n",
    "numbers = [12, 75, 150, 180, 145, 525, 50]\n",
    "\n",
    "for num in numbers:\n",
    "    if num > 500:\n",
    "        break  # если больше 500 — останавливаем цикл\n",
    "    if num > 150:\n",
    "        continue  # пропускаем всё, что больше 150\n",
    "    if num % 5 == 0:\n",
    "        print(num)\n"
   ]
  },
  {
   "cell_type": "code",
   "execution_count": 11,
   "metadata": {},
   "outputs": [
    {
     "name": "stdout",
     "output_type": "stream",
     "text": [
      "Output: 5\n"
     ]
    }
   ],
   "source": [
    "# Exercise 6: Count the total number of digits in a number\n",
    "# Example:\n",
    "\n",
    "# 75869\n",
    "# Output: 5\n",
    "\n",
    "number = int(input('Введите число: '))\n",
    "\n",
    "print('Output:', len(str(number)))"
   ]
  },
  {
   "cell_type": "code",
   "execution_count": 25,
   "metadata": {},
   "outputs": [
    {
     "name": "stdout",
     "output_type": "stream",
     "text": [
      "5 4 3 2 1 \n",
      "4 3 2 1 \n",
      "3 2 1 \n",
      "2 1 \n",
      "1 \n"
     ]
    }
   ],
   "source": [
    "# Exercise 7: Print reverse number pattern\n",
    "# 5 4 3 2 1\n",
    "# 4 3 2 1\n",
    "# 3 2 1\n",
    "# 2 1\n",
    "# 1\n",
    "\n",
    "for i in range(5, 0, -1):       # i = 5, 4, 3, 2, 1\n",
    "    for j in range(i, 0, -1):   # j = i до 1\n",
    "        print(j, end=' ')\n",
    "    print()  # переход на новую строку\n",
    "\n"
   ]
  },
  {
   "cell_type": "code",
   "execution_count": 30,
   "metadata": {},
   "outputs": [
    {
     "name": "stdout",
     "output_type": "stream",
     "text": [
      "50\n",
      "40\n",
      "30\n",
      "20\n",
      "10\n"
     ]
    }
   ],
   "source": [
    "# Exercise 8: Print list in reverse order using a loop\n",
    "# Given:\n",
    "\n",
    "# list1 = [10, 20, 30, 40, 50]\n",
    "# Expected Output:\n",
    "\n",
    "# 50\n",
    "# 40\n",
    "# 30\n",
    "# 20\n",
    "# 10\n",
    "\n",
    "list1 = [10, 20, 30, 40, 50]\n",
    "\n",
    "for i in reversed(list1):\n",
    "    print(i)\n"
   ]
  },
  {
   "cell_type": "code",
   "execution_count": 31,
   "metadata": {},
   "outputs": [
    {
     "name": "stdout",
     "output_type": "stream",
     "text": [
      "-10\n",
      "-9\n",
      "-8\n",
      "-7\n",
      "-6\n",
      "-5\n",
      "-4\n",
      "-3\n",
      "-2\n",
      "-1\n"
     ]
    }
   ],
   "source": [
    "# Exercise 9: Display numbers from -10 to -1 using a for loop\n",
    "# -10\n",
    "# -9\n",
    "# -8\n",
    "# -7\n",
    "# -6\n",
    "# -5\n",
    "# -4\n",
    "# -3\n",
    "# -2\n",
    "# -1\n",
    "\n",
    "for i in range(-10, 0):\n",
    "    print(i)"
   ]
  },
  {
   "cell_type": "code",
   "execution_count": 35,
   "metadata": {},
   "outputs": [
    {
     "name": "stdout",
     "output_type": "stream",
     "text": [
      "0\n",
      "1\n",
      "2\n",
      "3\n",
      "4\n",
      "Done!\n"
     ]
    }
   ],
   "source": [
    "# Exercise 10: Display message “Done” after successful loop execution\n",
    "# Example:\n",
    "\n",
    "# 0\n",
    "# 1\n",
    "# 2\n",
    "# 3\n",
    "# 4\n",
    "# Done!\n",
    "\n",
    "for i in range(0, 5):\n",
    "    print(i)\n",
    "print('Done!')"
   ]
  },
  {
   "cell_type": "code",
   "execution_count": 37,
   "metadata": {},
   "outputs": [
    {
     "name": "stdout",
     "output_type": "stream",
     "text": [
      "29\n",
      "31\n",
      "37\n",
      "41\n",
      "43\n",
      "47\n"
     ]
    }
   ],
   "source": [
    "# Exercise 11: Print all prime numbers within a range\n",
    "# Example:\n",
    "\n",
    "# Prime numbers between 25 and 50:\n",
    "# 29\n",
    "# 31\n",
    "# 37\n",
    "# 41\n",
    "# 43\n",
    "# 47\n",
    "\n",
    "for i in range(25, 51):\n",
    "    if i > 1:  # простые числа больше 1\n",
    "        is_prime = True\n",
    "        for j in range(2, int(i ** 0.5) + 1):\n",
    "            if i % j == 0:\n",
    "                is_prime = False\n",
    "                break\n",
    "        if is_prime:\n",
    "            print(i)\n"
   ]
  },
  {
   "cell_type": "code",
   "execution_count": 38,
   "metadata": {},
   "outputs": [
    {
     "name": "stdout",
     "output_type": "stream",
     "text": [
      "Fibonacci sequence:\n",
      "0  1  1  2  3  5  8  13  21  34  "
     ]
    }
   ],
   "source": [
    "# Exercise 12: Display Fibonacci series up to 10 terms\n",
    "# Example:\n",
    "\n",
    "# Fibonacci sequence:\n",
    "# 0  1  1  2  3  5  8  13  21  34\n",
    "\n",
    "n_terms = 10\n",
    "a, b = 0, 1\n",
    "count = 0\n",
    "\n",
    "print(\"Fibonacci sequence:\")\n",
    "\n",
    "while count < n_terms:\n",
    "    print(a, end='  ')\n",
    "    a, b = b, a + b\n",
    "    count += 1\n"
   ]
  },
  {
   "cell_type": "code",
   "execution_count": 39,
   "metadata": {},
   "outputs": [
    {
     "name": "stdout",
     "output_type": "stream",
     "text": [
      "5! = 120\n"
     ]
    }
   ],
   "source": [
    "# Exercise 13: Find the factorial of a given number\n",
    "# Example:\n",
    "\n",
    "# 5! = 120\n",
    "\n",
    "num = int(input(\"Enter a number: \"))\n",
    "factorial = 1\n",
    "\n",
    "for i in range(1, num + 1):\n",
    "    factorial *= i\n",
    "\n",
    "print(f\"{num}! = {factorial}\")\n"
   ]
  },
  {
   "cell_type": "code",
   "execution_count": 46,
   "metadata": {},
   "outputs": [
    {
     "name": "stdout",
     "output_type": "stream",
     "text": [
      "[1, 1, 3, 4]\n"
     ]
    }
   ],
   "source": [
    "# 4. Return Uncommon Elements of Lists\n",
    "# Task\n",
    "# Return the elements that are not common between two lists. The order of elements does not matter.\n",
    "\n",
    "# Examples\n",
    "# Input: list1 = [1, 1, 2], list2 = [2, 3, 4]\n",
    "# Output: [1, 1, 3, 4]\n",
    "\n",
    "list1 = [1, 1, 2]\n",
    "list2 = [2, 3, 4]\n",
    "\n",
    "copy_list1 = list1[:]\n",
    "copy_list2 = list2[:]\n",
    "\n",
    "result = []\n",
    "\n",
    "for item in list1:\n",
    "    if item in copy_list2:\n",
    "        copy_list2.remove(item)\n",
    "    else:\n",
    "        result.append(item)\n",
    "\n",
    "for item in list2:\n",
    "    if item in copy_list1:\n",
    "        copy_list1.remove(item)\n",
    "    else:\n",
    "        result.append(item)\n",
    "\n",
    "print(result)"
   ]
  },
  {
   "cell_type": "code",
   "execution_count": 47,
   "metadata": {},
   "outputs": [
    {
     "name": "stdout",
     "output_type": "stream",
     "text": [
      "[1, 2, 3, 4, 5, 6]\n"
     ]
    }
   ],
   "source": [
    "# Input: list1 = [1, 2, 3], list2 = [4, 5, 6]\n",
    "# Output: [1, 2, 3, 4, 5, 6]\n",
    "\n",
    "list1 = [1, 2, 3]\n",
    "list2 = [4, 5, 6]\n",
    "\n",
    "result = list1 + list2\n",
    "\n",
    "print(result)  # [1, 2, 3, 4, 5, 6]\n"
   ]
  },
  {
   "cell_type": "code",
   "execution_count": 49,
   "metadata": {},
   "outputs": [
    {
     "name": "stdout",
     "output_type": "stream",
     "text": [
      "[1, 2, 2, 5]\n"
     ]
    }
   ],
   "source": [
    "# Input: list1 = [1, 1, 2, 3, 4, 2], list2 = [1, 3, 4, 5]\n",
    "# Output: [2, 2, 5]\n",
    "\n",
    "from collections import Counter\n",
    "\n",
    "list1 = [1, 1, 2, 3, 4, 2]\n",
    "list2 = [1, 3, 4, 5]\n",
    "\n",
    "c1 = Counter(list1)\n",
    "c2 = Counter(list2)\n",
    "\n",
    "# Находим элементы, которые есть в одном списке, но не в другом (учитывая количество)\n",
    "diff = (c1 - c2) + (c2 - c1)\n",
    "\n",
    "result = list(diff.elements())\n",
    "\n",
    "print(result)  # [2, 2, 5]\n"
   ]
  }
 ],
 "metadata": {
  "kernelspec": {
   "display_name": "base",
   "language": "python",
   "name": "python3"
  },
  "language_info": {
   "codemirror_mode": {
    "name": "ipython",
    "version": 3
   },
   "file_extension": ".py",
   "mimetype": "text/x-python",
   "name": "python",
   "nbconvert_exporter": "python",
   "pygments_lexer": "ipython3",
   "version": "3.12.7"
  }
 },
 "nbformat": 4,
 "nbformat_minor": 2
}
