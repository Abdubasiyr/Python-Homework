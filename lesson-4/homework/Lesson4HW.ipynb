{
 "cells": [
  {
   "cell_type": "code",
   "execution_count": 8,
   "metadata": {},
   "outputs": [
    {
     "name": "stdout",
     "output_type": "stream",
     "text": [
      "[7, 10, 45]\n",
      "[45, 10, 7]\n"
     ]
    }
   ],
   "source": [
    "# 1. Sort a Dictionary by Value\n",
    "# Write a Python script to sort (ascending and descending) a dictionary by value.\n",
    "\n",
    "sorted_values_asc = sorted(my_dict.values())\n",
    "sorted_values_desc = sorted(my_dict.values(), reverse=True)\n",
    "\n",
    "print(sorted_values_asc)\n",
    "print(sorted_values_desc)"
   ]
  },
  {
   "cell_type": "code",
   "execution_count": 14,
   "metadata": {},
   "outputs": [
    {
     "name": "stdout",
     "output_type": "stream",
     "text": [
      "{0: 10, 1: 20, 2: 30}\n"
     ]
    }
   ],
   "source": [
    "# 2. Add a Key to a Dictionary\n",
    "# Write a Python script to add a key to a dictionary.\n",
    "\n",
    "sample_dict = {0: 10, 1: 20}\n",
    "\n",
    "sample_dict.update({2 : 30})\n",
    "\n",
    "print(sample_dict)"
   ]
  },
  {
   "cell_type": "code",
   "execution_count": 17,
   "metadata": {},
   "outputs": [
    {
     "name": "stdout",
     "output_type": "stream",
     "text": [
      "{1: 10, 2: 20, 3: 30, 4: 40, 5: 50, 6: 60}\n"
     ]
    }
   ],
   "source": [
    "# 3. Concatenate Multiple Dictionaries\n",
    "# Write a Python script to concatenate the following dictionaries to create a new one.\n",
    "\n",
    "dic1 = {1: 10, 2: 20}\n",
    "dic2 = {3: 30, 4: 40}\n",
    "dic3 = {5: 50, 6: 60}\n",
    "\n",
    "result_dict = dic1 | dic2 | dic3  # '|' Оператор объединения!!!\n",
    "\n",
    "print(result_dict)"
   ]
  },
  {
   "cell_type": "code",
   "execution_count": 18,
   "metadata": {},
   "outputs": [
    {
     "name": "stdout",
     "output_type": "stream",
     "text": [
      "{1: 1, 2: 4, 3: 9, 4: 16, 5: 25}\n"
     ]
    }
   ],
   "source": [
    "# 4. Generate a Dictionary with Squares\n",
    "# Write a Python script to generate and print a dictionary that contains a number (between 1 and n) in the form (x, x*x).\n",
    "\n",
    "n = 5  \n",
    "\n",
    "squares = {}\n",
    "for x in range(1, n + 1):\n",
    "    squares[x] = x * x\n",
    "\n",
    "print(squares)\n"
   ]
  },
  {
   "cell_type": "code",
   "execution_count": 19,
   "metadata": {},
   "outputs": [
    {
     "name": "stdout",
     "output_type": "stream",
     "text": [
      "{1: 1, 2: 4, 3: 9, 4: 16, 5: 25, 6: 36, 7: 49, 8: 64, 9: 81, 10: 100, 11: 121, 12: 144, 13: 169, 14: 196, 15: 225}\n"
     ]
    }
   ],
   "source": [
    "# 5. Dictionary of Squares (1 to 15)\n",
    "# Write a Python script to print a dictionary where the keys are numbers between 1 and 15 (both included) and the values are the square of the keys.\n",
    "\n",
    "n = 15  \n",
    "\n",
    "squares = {}\n",
    "for x in range(1, n + 1):\n",
    "    squares[x] = x * x\n",
    "\n",
    "print(squares)"
   ]
  },
  {
   "cell_type": "code",
   "execution_count": 21,
   "metadata": {},
   "outputs": [
    {
     "name": "stdout",
     "output_type": "stream",
     "text": [
      "{1, 3, 4, 5, 7, 8, 9, 10, 12, 45}\n"
     ]
    }
   ],
   "source": [
    "# 1. Create a Set\n",
    "# Write a Python program to create a set.\n",
    "\n",
    "my_set = {1, 3, 4, 5, 8, 7, 9, 10, 45, 12}\n",
    "\n",
    "print(my_set)"
   ]
  },
  {
   "cell_type": "code",
   "execution_count": 23,
   "metadata": {},
   "outputs": [
    {
     "name": "stdout",
     "output_type": "stream",
     "text": [
      "1\n",
      "3\n",
      "4\n",
      "5\n",
      "7\n",
      "8\n",
      "9\n",
      "10\n",
      "12\n",
      "45\n"
     ]
    }
   ],
   "source": [
    "# 2. Iterate Over a Set\n",
    "# Write a Python program to iterate over sets.\n",
    "\n",
    "my_set = {1, 3, 4, 5, 8, 7, 9, 10, 45, 12}\n",
    "\n",
    "for item in my_set:\n",
    "    print(item)"
   ]
  },
  {
   "cell_type": "code",
   "execution_count": 28,
   "metadata": {},
   "outputs": [
    {
     "name": "stdout",
     "output_type": "stream",
     "text": [
      "{'Messi', 'Sergio', 'Casillas', 'Pepe', 'Kroos', 'Khusanov', 'Bellingham', 'Ronaldo'}\n"
     ]
    }
   ],
   "source": [
    "# 3. Add Member(s) to a Set\n",
    "# Write a Python program to add member(s) to a set.\n",
    "\n",
    "my_set = {'Casillas', 'Sergio', 'Pepe', 'Kroos', 'Bellingham'}\n",
    "\n",
    "my_set.update({'Ronaldo', 'Messi', 'Khusanov'})\n",
    "\n",
    "print(my_set)"
   ]
  },
  {
   "cell_type": "code",
   "execution_count": 37,
   "metadata": {},
   "outputs": [
    {
     "name": "stdout",
     "output_type": "stream",
     "text": [
      "{1, 3, 4, 5, 7, 8, 9, 10, 12}\n"
     ]
    }
   ],
   "source": [
    "# 4. Remove Item(s) from a Set\n",
    "# Write a Python program to remove item(s) from a given set.\n",
    "\n",
    "my_set = {1, 3, 4, 5, 8, 7, 9, 10, 45, 12} \n",
    "\n",
    "my_set.remove(45)\n",
    "\n",
    "print(my_set)"
   ]
  },
  {
   "cell_type": "code",
   "execution_count": 45,
   "metadata": {},
   "outputs": [
    {
     "name": "stdout",
     "output_type": "stream",
     "text": [
      "{1, 3, 4, 7, 8, 9, 10, 12, 45}\n"
     ]
    }
   ],
   "source": [
    "# 5. Remove an Item if Present in the Set\n",
    "# Write a Python program to remove an item from a set if it is present in the set.\n",
    "\n",
    "my_set = {1, 3, 4, 5, 8, 7, 9, 10, 45, 12} \n",
    "\n",
    "my_set.remove(5)\n",
    "\n",
    "print(my_set)"
   ]
  }
 ],
 "metadata": {
  "kernelspec": {
   "display_name": "base",
   "language": "python",
   "name": "python3"
  },
  "language_info": {
   "codemirror_mode": {
    "name": "ipython",
    "version": 3
   },
   "file_extension": ".py",
   "mimetype": "text/x-python",
   "name": "python",
   "nbconvert_exporter": "python",
   "pygments_lexer": "ipython3",
   "version": "3.12.7"
  }
 },
 "nbformat": 4,
 "nbformat_minor": 2
}
