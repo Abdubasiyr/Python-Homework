{
 "cells": [
  {
   "cell_type": "code",
   "execution_count": 45,
   "metadata": {},
   "outputs": [
    {
     "name": "stdout",
     "output_type": "stream",
     "text": [
      "True\n"
     ]
    }
   ],
   "source": [
    "# 1. \n",
    "year = int(input('Введите год:'))\n",
    "\n",
    "if year < 0:\n",
    "    print('Year must be a positive integer')\n",
    "elif year % 4 == 0 and year % 100 != 0 or year % 400 == 0:\n",
    "    print('True')\n",
    "else:\n",
    "    print('False')"
   ]
  },
  {
   "cell_type": "code",
   "execution_count": 23,
   "metadata": {},
   "outputs": [
    {
     "name": "stdout",
     "output_type": "stream",
     "text": [
      "Weird\n"
     ]
    }
   ],
   "source": [
    "# 2. Conditional Statements Exercise\n",
    "# Given an integer, n, perform the following conditional actions:\n",
    "\n",
    "# If n is odd, print Weird\n",
    "# If n is even and in the inclusive range of 2 to 5, print Not Weird\n",
    "# If n is even and in the inclusive range of 6 to 20, print Weird\n",
    "# If n is even and greater than 20, print Not Weird\n",
    "\n",
    "n = int(input('Введите любое целое число от 1 до 100:'))\n",
    "\n",
    "if 1 <= n <= 100:\n",
    "    if n % 2 != 0:\n",
    "        print('Weird')\n",
    "    elif n % 2 == 0 and 2 <= n <= 5:\n",
    "        print('Not Weird')\n",
    "    elif n % 2 == 0 and 6 <= n <= 20:\n",
    "        print('Weird')\n",
    "    else:\n",
    "        print('Not Weird')\n",
    "else: \n",
    "    print('Заданное число должно быть от 1 до 100')\n"
   ]
  },
  {
   "cell_type": "code",
   "execution_count": 26,
   "metadata": {},
   "outputs": [
    {
     "name": "stdout",
     "output_type": "stream",
     "text": [
      "[2, 4, 6, 8, 10]\n"
     ]
    }
   ],
   "source": [
    "# 3. Given two integer numbers a and b. Find even numbers between this numbers. a and b are inclusive. Don't use loop.\n",
    "# Give two solutions.\n",
    "\n",
    "# Solution 1 with if-else statement.\n",
    "\n",
    "# Solution 2 without if-else statement.\n",
    "\n",
    "a = int(input(\"Введите a: \"))\n",
    "b = int(input(\"Введите b: \"))\n",
    "\n",
    "# Обеспечим порядок от меньшего к большему\n",
    "if a > b:\n",
    "    a, b = b, a\n",
    "\n",
    "# Начинаем с ближайшего чётного числа\n",
    "if a % 2 != 0:\n",
    "    a += 1\n",
    "\n",
    "even_numbers = list(range(a, b + 1, 2))\n",
    "print(even_numbers)"
   ]
  },
  {
   "cell_type": "code",
   "execution_count": 27,
   "metadata": {},
   "outputs": [
    {
     "name": "stdout",
     "output_type": "stream",
     "text": [
      "[2, 4, 6, 8, 10]\n"
     ]
    }
   ],
   "source": [
    "a = int(input(\"Введите a: \"))\n",
    "b = int(input(\"Введите b: \"))\n",
    "\n",
    "# Упорядочим значения и сразу приведём a к чётному\n",
    "start = a + (a % 2) if a <= b else b + (b % 2)\n",
    "end = b if a <= b else a\n",
    "\n",
    "even_numbers = list(range(start, end + 1, 2))\n",
    "print(even_numbers)\n"
   ]
  }
 ],
 "metadata": {
  "kernelspec": {
   "display_name": "base",
   "language": "python",
   "name": "python3"
  },
  "language_info": {
   "codemirror_mode": {
    "name": "ipython",
    "version": 3
   },
   "file_extension": ".py",
   "mimetype": "text/x-python",
   "name": "python",
   "nbconvert_exporter": "python",
   "pygments_lexer": "ipython3",
   "version": "3.12.7"
  }
 },
 "nbformat": 4,
 "nbformat_minor": 2
}
