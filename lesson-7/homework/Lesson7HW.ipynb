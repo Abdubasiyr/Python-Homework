{
 "cells": [
  {
   "cell_type": "code",
   "execution_count": 4,
   "metadata": {},
   "outputs": [
    {
     "name": "stdout",
     "output_type": "stream",
     "text": [
      "False\n",
      "True\n"
     ]
    }
   ],
   "source": [
    "# 1. is_prime(n) funksiyasi\n",
    "# is_prime(n) funksiyasini hosil qiling (n > 0). Agar n soni tub bo'lsa True, aks holda False qiymat qaytarsin.\n",
    "\n",
    "# Misollar:\n",
    "# Kiritish:\n",
    "# 4\n",
    "# Natija:\n",
    "# False\n",
    "# (Izoh: 4 soni tub emas, chunki u 2 ga bo'linadi.)\n",
    "\n",
    "# Kiritish:\n",
    "# 7\n",
    "# Natija:\n",
    "# True\n",
    "# (Izoh: 7 soni faqat 1 va o'ziga bo'linadi, ya'ni tub son.)\n",
    "\n",
    "\n",
    "def is_prime(n):\n",
    "    if n <= 1:\n",
    "        return False  # 1 va undan kichik sonlar tub emas\n",
    "    for i in range(2, int(n ** 0.5) + 1):  # faqat 2 dan √n gacha tekshirsa yetarli\n",
    "        if n % i == 0:\n",
    "            return False  # Agar biror sondan qoldiqsiz bo‘linsa — tub emas\n",
    "    return True  # Hech bir son bo‘linmasa — tub son \n",
    "print(is_prime(4))\n",
    "print(is_prime(7))\n"
   ]
  },
  {
   "cell_type": "code",
   "execution_count": 5,
   "metadata": {},
   "outputs": [
    {
     "name": "stdout",
     "output_type": "stream",
     "text": [
      "6\n",
      "7\n",
      "15\n"
     ]
    }
   ],
   "source": [
    "def digit_sum(k):\n",
    "    summa = 0\n",
    "    while k > 0:\n",
    "        summa += k % 10  # oxirgi raqamni qo‘shamiz\n",
    "        k //= 10          # oxirgi raqamni olib tashlaymiz\n",
    "    return summa\n",
    "\n",
    "print(digit_sum(24))   # 6\n",
    "print(digit_sum(502))  # 7\n",
    "print(digit_sum(12345))  # 15\n"
   ]
  },
  {
   "cell_type": "code",
   "execution_count": 7,
   "metadata": {},
   "outputs": [
    {
     "name": "stdout",
     "output_type": "stream",
     "text": [
      "2 4 8 "
     ]
    }
   ],
   "source": [
    "def print_powers_of_two(n):\n",
    "    k = 1\n",
    "    while 2 ** k <= n:\n",
    "        print(2 ** k, end=' ')\n",
    "        k += 1\n",
    "print_powers_of_two(10)\n",
    "# Natija: 2 4 8\n"
   ]
  }
 ],
 "metadata": {
  "kernelspec": {
   "display_name": "base",
   "language": "python",
   "name": "python3"
  },
  "language_info": {
   "codemirror_mode": {
    "name": "ipython",
    "version": 3
   },
   "file_extension": ".py",
   "mimetype": "text/x-python",
   "name": "python",
   "nbconvert_exporter": "python",
   "pygments_lexer": "ipython3",
   "version": "3.12.7"
  }
 },
 "nbformat": 4,
 "nbformat_minor": 2
}
